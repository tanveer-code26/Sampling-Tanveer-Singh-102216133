{
  "cells": [
    {
      "cell_type": "code",
      "execution_count": 3,
      "metadata": {},
      "outputs": [
        {
          "name": "stdout",
          "output_type": "stream",
          "text": [
            "Collecting imbalanced-learnNote: you may need to restart the kernel to use updated packages.\n",
            "\n",
            "  Downloading imbalanced_learn-0.13.0-py3-none-any.whl.metadata (8.8 kB)\n",
            "Requirement already satisfied: numpy<3,>=1.24.3 in f:\\thapar\\semester 6\\ucs654\\psrana labs\\.venv\\lib\\site-packages (from imbalanced-learn) (2.2.2)\n",
            "Requirement already satisfied: scipy<2,>=1.10.1 in f:\\thapar\\semester 6\\ucs654\\psrana labs\\.venv\\lib\\site-packages (from imbalanced-learn) (1.15.1)\n",
            "Requirement already satisfied: scikit-learn<2,>=1.3.2 in f:\\thapar\\semester 6\\ucs654\\psrana labs\\.venv\\lib\\site-packages (from imbalanced-learn) (1.6.1)\n",
            "Collecting sklearn-compat<1,>=0.1 (from imbalanced-learn)\n",
            "  Downloading sklearn_compat-0.1.3-py3-none-any.whl.metadata (18 kB)\n",
            "Requirement already satisfied: joblib<2,>=1.1.1 in f:\\thapar\\semester 6\\ucs654\\psrana labs\\.venv\\lib\\site-packages (from imbalanced-learn) (1.4.2)\n",
            "Requirement already satisfied: threadpoolctl<4,>=2.0.0 in f:\\thapar\\semester 6\\ucs654\\psrana labs\\.venv\\lib\\site-packages (from imbalanced-learn) (3.5.0)\n",
            "Downloading imbalanced_learn-0.13.0-py3-none-any.whl (238 kB)\n",
            "Downloading sklearn_compat-0.1.3-py3-none-any.whl (18 kB)\n",
            "Installing collected packages: sklearn-compat, imbalanced-learn\n",
            "Successfully installed imbalanced-learn-0.13.0 sklearn-compat-0.1.3\n"
          ]
        }
      ],
      "source": [
        "pip install imbalanced-learn"
      ]
    },
    {
      "cell_type": "code",
      "execution_count": 4,
      "metadata": {
        "id": "uMDyAS2qNRr1"
      },
      "outputs": [],
      "source": [
        "import pandas as pd\n",
        "import numpy as np\n",
        "from sklearn.model_selection import train_test_split\n",
        "from sklearn.metrics import accuracy_score\n",
        "from sklearn.ensemble import RandomForestClassifier\n",
        "from sklearn.linear_model import LogisticRegression\n",
        "from sklearn.svm import SVC\n",
        "from sklearn.neighbors import KNeighborsClassifier\n",
        "from sklearn.ensemble import GradientBoostingClassifier\n",
        "from sklearn.preprocessing import StandardScaler\n",
        "from imblearn.over_sampling import SMOTE\n",
        "\n",
        "#dataset\n",
        "url = \"Creditcard_data.csv\"\n",
        "data = pd.read_csv(url)\n",
        "data = data.dropna()\n",
        "\n",
        "X = data.drop('Class', axis=1)\n",
        "y = data['Class']\n",
        "scaler = StandardScaler()\n",
        "X_scaled = scaler.fit_transform(X)\n",
        "\n",
        "smote = SMOTE(random_state=42)\n",
        "X_balanced, y_balanced = smote.fit_resample(X_scaled, y)\n",
        "\n",
        "sample_sizes = [int(len(X_balanced) * p / 100) for p in [15, 25, 35, 45, 55]]  # Adjust percentages as per formula\n",
        "samples = [pd.DataFrame(X_balanced).sample(n=size, random_state=42) for size in sample_sizes]\n",
        "sample_labels = [pd.Series(y_balanced).iloc[sample.index] for sample in samples]\n",
        "\n",
        "sampling_techniques = [\n",
        "    lambda x: x.sample(frac=0.75, random_state=42),\n",
        "    lambda x: x.sample(frac=0.65, random_state=42),\n",
        "    lambda x: x.sample(frac=0.5, random_state=42),\n",
        "    lambda x: x.sample(frac=0.3, random_state=42),\n",
        "    lambda x: x.sample(frac=0.9, random_state=42)\n",
        "]\n",
        "\n",
        "# ML models\n",
        "models = [\n",
        "    LogisticRegression(max_iter=2000, random_state=42),\n",
        "    RandomForestClassifier(random_state=42),\n",
        "    SVC(random_state=42),\n",
        "    KNeighborsClassifier(n_neighbors=5),\n",
        "    GradientBoostingClassifier(random_state=42)\n",
        "]\n",
        "\n",
        "results = []\n",
        "\n",
        "for i, (sample, labels) in enumerate(zip(samples, sample_labels)):\n",
        "    X_train, X_test, y_train, y_test = train_test_split(sample, labels, test_size=0.2, random_state=42)\n",
        "\n",
        "    for j, technique in enumerate(sampling_techniques):\n",
        "        sampled_X_train = technique(X_train)\n",
        "        sampled_y_train = y_train.loc[sampled_X_train.index]\n",
        "\n",
        "        for k, model in enumerate(models):\n",
        "            model.fit(sampled_X_train, sampled_y_train)\n",
        "            y_pred = model.predict(X_test)\n",
        "            accuracy = accuracy_score(y_test, y_pred)\n",
        "\n",
        "            results.append({\n",
        "                'Sample': f\"Sample{i+1}\",\n",
        "                'Sampling': f\"Sampling{j+1}\",\n",
        "                'Model': f\"Model{chr(77+k)}\",\n",
        "                'Accuracy': accuracy\n",
        "            })\n",
        "\n",
        "#results\n",
        "results_df = pd.DataFrame(results)\n",
        "\n",
        "best_results = results_df.groupby(['Model', 'Sampling'])['Accuracy'].mean().reset_index()\n",
        "best_results = best_results.loc[best_results.groupby('Model')['Accuracy'].idxmax()]\n",
        "best_results.to_csv(\"best_sampling_per_model1.csv\", index=False)\n",
        "\n",
        "results_df.to_csv(\"sampling_results1.csv\", index=False)"
      ]
    }
  ],
  "metadata": {
    "colab": {
      "provenance": []
    },
    "kernelspec": {
      "display_name": ".venv",
      "language": "python",
      "name": "python3"
    },
    "language_info": {
      "codemirror_mode": {
        "name": "ipython",
        "version": 3
      },
      "file_extension": ".py",
      "mimetype": "text/x-python",
      "name": "python",
      "nbconvert_exporter": "python",
      "pygments_lexer": "ipython3",
      "version": "3.12.5"
    }
  },
  "nbformat": 4,
  "nbformat_minor": 0
}
